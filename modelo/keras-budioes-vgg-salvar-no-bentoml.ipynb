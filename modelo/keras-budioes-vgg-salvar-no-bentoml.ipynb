{
 "cells": [
  {
   "cell_type": "code",
   "execution_count": 2,
   "id": "b001c5d1",
   "metadata": {},
   "outputs": [],
   "source": [
    "import bentoml\n",
    "from tensorflow import keras\n",
    "from keras.models import load_model"
   ]
  },
  {
   "cell_type": "code",
   "execution_count": 3,
   "id": "420a58ea",
   "metadata": {},
   "outputs": [],
   "source": [
    "model = load_model(\"C:\\\\Users\\\\LDT\\\\Desktop\\\\mestrado-unifesp\\\\exemplos\\\\modelo_budioes_vgg-ckpnt.model\");"
   ]
  },
  {
   "cell_type": "code",
   "execution_count": 4,
   "id": "4ee0c507",
   "metadata": {},
   "outputs": [
    {
     "name": "stdout",
     "output_type": "stream",
     "text": [
      "INFO:tensorflow:Assets written to: C:\\Users\\LDT\\AppData\\Local\\Temp\\tmpfz7i9_qtbentoml_model_modelo_budioes_vgg-ckpnt\\assets\n",
      "modelo_budioes_vgg-ckpnt:dphcykn4sooek7fs\n"
     ]
    }
   ],
   "source": [
    "bento_model = bentoml.keras.save_model('modelo_budioes_vgg-ckpnt', model) \n",
    "print(bento_model.tag)"
   ]
  },
  {
   "cell_type": "code",
   "execution_count": null,
   "id": "18814f22",
   "metadata": {},
   "outputs": [],
   "source": []
  }
 ],
 "metadata": {
  "kernelspec": {
   "display_name": "Python 3 (ipykernel)",
   "language": "python",
   "name": "python3"
  },
  "language_info": {
   "codemirror_mode": {
    "name": "ipython",
    "version": 3
   },
   "file_extension": ".py",
   "mimetype": "text/x-python",
   "name": "python",
   "nbconvert_exporter": "python",
   "pygments_lexer": "ipython3",
   "version": "3.9.18"
  }
 },
 "nbformat": 4,
 "nbformat_minor": 5
}
