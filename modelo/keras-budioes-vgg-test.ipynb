{
 "cells": [
  {
   "cell_type": "code",
   "execution_count": 1,
   "id": "d44e94ce",
   "metadata": {},
   "outputs": [],
   "source": [
    "from tensorflow.keras.utils import img_to_array\n",
    "from keras.models import load_model\n",
    "from sklearn.metrics import confusion_matrix\n",
    "import numpy as np\n",
    "import pickle\n",
    "import os\n",
    "import pandas as pd\n",
    "import cv2\n",
    "import random\n",
    "import shutil"
   ]
  },
  {
   "cell_type": "code",
   "execution_count": 2,
   "id": "dc7034b2",
   "metadata": {},
   "outputs": [
    {
     "name": "stdout",
     "output_type": "stream",
     "text": [
      "loading model\n",
      "class: SCARUS TRISPINOSUS_ADT\n",
      "number of correct predictions:  38\n",
      "number of wrong predictions:  0\n",
      "class: SCARUS ZELINDAE_IP\n",
      "number of correct predictions:  29\n",
      "number of wrong predictions:  4\n",
      "class: SPARISOMA AXILLARE_IP\n",
      "number of correct predictions:  45\n",
      "number of wrong predictions:  6\n",
      "[[38  0  0]\n",
      " [ 3 29  1]\n",
      " [ 5  1 45]]\n"
     ]
    }
   ],
   "source": [
    "\n",
    "print(\"loading model\");\n",
    "model = load_model(\"C:\\\\Users\\\\LDT\\\\Desktop\\\\mestrado-unifesp\\\\exemplos\\\\modelo_budioes_vgg-ckpnt.model\");\n",
    "lb = pickle.loads(open(\"C:\\\\Users\\\\LDT\\\\Desktop\\\\mestrado-unifesp\\\\budioes.pickle\", \"rb\").read());\n",
    "\n",
    "test_benchmark = \"C:\\\\Users\\\\LDT\\\\Desktop\\\\mestrado-unifesp\\\\db\\\\test_benchmark\";\n",
    "\n",
    "y_pred = []\n",
    "y_true = []\n",
    "exts = [\".JPG\",\".PNG\",\".TIFF\",\".BMP\",\".JPEG\"]\n",
    "\n",
    "results = pd.DataFrame(columns=['path','new_path','predicted_result','expected_result','status'])\n",
    "\n",
    "path = \"C:\\\\Users\\\\LDT\\\\Desktop\\\\mestrado-unifesp\\\\db\\\\val\"\n",
    "\n",
    "names = {}\n",
    "\n",
    "for x in [os.path.join(path,y) for y in os.listdir(path) if os.path.isdir(os.path.join(path,y))]:\n",
    "    \n",
    "    files = sorted(list([os.path.join(x,name) for name in os.listdir(x) if os.path.splitext(name)[1].upper() in exts]));\n",
    "    count = 0;\n",
    "\n",
    "    for file in files:\n",
    "        status = 'FALSE';\n",
    "        fname = os.path.basename(file);\n",
    "        truelabel =  os.path.basename(os.path.dirname(file));\n",
    "        \n",
    "        truelabel = truelabel.upper();\n",
    "        \n",
    "        image = cv2.imread(file);\n",
    "        image = cv2.cvtColor(image, cv2.COLOR_BGR2RGB);\n",
    "        image = cv2.resize(image, (224,224));\n",
    "\n",
    "        image = img_to_array(image);\n",
    "        image = np.expand_dims(image, axis = 0); #para incluir uma dimensão na frente da imagem, que seria o batch size\n",
    "        \n",
    "        #classificando\n",
    "        classea = model.predict(image)[0]; #pega a primeira (e unica) ocorrência na dimensão do batch size\n",
    "        idx = np.argmax(classea);     \n",
    "        \n",
    "        label = lb.classes_[idx];\n",
    "        label = label.upper();\n",
    "        y_pred.append(label);\n",
    "        y_true.append(truelabel);\n",
    "        \n",
    "        if (label == truelabel):\n",
    "            count += 1;\n",
    "            status = 'TRUE'\n",
    " \n",
    "        #Adicionando resultados em um dataframe\n",
    "        new_name = str(random.randint(100000,999999))\n",
    "        while new_name in names.keys():\n",
    "            new_name = str(random.randint(100000,999999))\n",
    "        \n",
    "        names[new_name] = file\n",
    "        extension = os.path.splitext(file)[1]\n",
    "        results.loc[len(results.index)] = [file, os.path.join(test_benchmark,new_name + extension), label, truelabel, status]\n",
    "        shutil.copy(file, os.path.join(test_benchmark,new_name + extension))\n",
    "#        \n",
    "#        print(label);\n",
    "#        lbl = \"{}: {:.2f}%\".format(label, classea[idx]*100);\n",
    "#        print(lbl);\n",
    "    \n",
    "    #Exportar matriz de confusão para excel com a acurácia de cada classe\n",
    "    #Calcular F1, recall\n",
    "    print(\"class:\", truelabel)\n",
    "    print(\"number of correct predictions: \", count);\n",
    "    print(\"number of wrong predictions: \", len(files) - count);\n",
    "    \n",
    "print(confusion_matrix(y_true, y_pred));\n"
   ]
  },
  {
   "cell_type": "code",
   "execution_count": 3,
   "id": "386f880b",
   "metadata": {},
   "outputs": [],
   "source": [
    "results.to_excel('C:\\\\Users\\\\LDT\\\\Desktop\\\\mestrado-unifesp\\\\resultado_vgg.xlsx', index=0)"
   ]
  },
  {
   "cell_type": "code",
   "execution_count": null,
   "id": "5fe2043b",
   "metadata": {},
   "outputs": [],
   "source": []
  }
 ],
 "metadata": {
  "kernelspec": {
   "display_name": "Python 3 (ipykernel)",
   "language": "python",
   "name": "python3"
  },
  "language_info": {
   "codemirror_mode": {
    "name": "ipython",
    "version": 3
   },
   "file_extension": ".py",
   "mimetype": "text/x-python",
   "name": "python",
   "nbconvert_exporter": "python",
   "pygments_lexer": "ipython3",
   "version": "3.9.18"
  }
 },
 "nbformat": 4,
 "nbformat_minor": 5
}
