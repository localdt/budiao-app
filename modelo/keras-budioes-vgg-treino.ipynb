{
 "cells": [
  {
   "cell_type": "code",
   "execution_count": 1,
   "id": "2ed35640",
   "metadata": {},
   "outputs": [],
   "source": [
    "\n",
    "from tensorflow.keras.optimizers import SGD, Adam\n",
    "from tensorflow.keras.applications import VGG16\n",
    "from tensorflow.keras.callbacks import ReduceLROnPlateau, ModelCheckpoint\n",
    "from keras.preprocessing.image import ImageDataGenerator\n",
    "from keras.layers import Dense, Flatten, Dropout, Activation, Input, Conv2D, MaxPooling2D\n",
    "from keras.models import Model\n",
    "from keras import Sequential\n",
    "from sklearn.preprocessing import LabelBinarizer\n",
    "import numpy as np\n",
    "import pickle\n",
    "import os"
   ]
  },
  {
   "cell_type": "code",
   "execution_count": 2,
   "id": "643fce27",
   "metadata": {},
   "outputs": [],
   "source": [
    "learning_rate = 0.01 #diminui o valor do learning rate pois estamos usando Adam como otimizador"
   ]
  },
  {
   "cell_type": "markdown",
   "id": "fb6f9967",
   "metadata": {},
   "source": [
    "## Treinamento Rede VGG"
   ]
  },
  {
   "cell_type": "code",
   "execution_count": 3,
   "id": "fa5ec7c1",
   "metadata": {},
   "outputs": [],
   "source": [
    "def get_images(pasta):\n",
    "    exts = ['.PNG','.JPG','.JPEG','.TIFF','.GIF','.BMP']\n",
    "    tot_images = 0\n",
    "    for sf in [name for name in os.listdir(pasta) if os.path.isdir(os.path.join(pasta, name))]:\n",
    "        subdir = os.path.join(pasta,sf)\n",
    "        tot_images = tot_images + len([name for name in os.listdir(subdir) if os.path.splitext(name)[1].upper() in exts])\n",
    "    return tot_images"
   ]
  },
  {
   "cell_type": "code",
   "execution_count": 4,
   "id": "ee94bab0",
   "metadata": {},
   "outputs": [],
   "source": [
    "# FUNÇÃO PARA LER O NOME DAS CLASSES\n",
    "def get_labels(pasta):\n",
    "    return [name for name in os.listdir(pasta) if os.path.isdir(os.path.join(pasta, name))];\n"
   ]
  },
  {
   "cell_type": "code",
   "execution_count": 5,
   "id": "9b6dee83",
   "metadata": {},
   "outputs": [],
   "source": [
    "EPOCHS = 50;\n",
    "BATCH_SIZE = 16; #serão gerados batches de 16 imagens (a rede vê 16 imagens de cada vez durante o treino). Esse número é para facilitar o processamento conforme a memória do computador durante o treino, colocamos 16 não travar\n",
    "IMG_SIZE = (224,224,3);\n",
    "optimizer_name = 'SGD'"
   ]
  },
  {
   "cell_type": "code",
   "execution_count": 6,
   "id": "a21a2a25",
   "metadata": {},
   "outputs": [],
   "source": [
    "trainFolder = 'C:\\\\Users\\\\LDT\\\\Desktop\\\\mestrado-unifesp\\\\db\\\\train'\n",
    "valFolder = 'C:\\\\Users\\\\LDT\\\\Desktop\\\\mestrado-unifesp\\\\db\\\\val'\n",
    "labels = get_labels(trainFolder)\n",
    "labels = np.array(labels);\n",
    "\n",
    "# Organiza os labels em matriz e salva, para posterior uso em classificação\n",
    "lb = LabelBinarizer();\n",
    "labels = lb.fit_transform(labels);\n",
    "f = open('C:\\\\Users\\\\LDT\\\\Desktop\\\\mestrado-unifesp\\\\budioes_vgg_' + optimizer_name + '_' + str(learning_rate) + \".pickle\", \"wb\")\n",
    "f.write(pickle.dumps(lb));\n",
    "f.close();"
   ]
  },
  {
   "cell_type": "markdown",
   "id": "de21a0c9",
   "metadata": {},
   "source": [
    "ImageDataGenerator = Carrega aos poucos as imagens em memória para fazer a leitura (para não estourar a memória)"
   ]
  },
  {
   "cell_type": "code",
   "execution_count": 7,
   "id": "07f4c6f0",
   "metadata": {},
   "outputs": [],
   "source": [
    "#ImageDataGenerator = objeto para buscar as imagens em uma pasta\n",
    "#Treino\n",
    "augTrain = ImageDataGenerator(rotation_range=20, width_shift_range = 0.1, height_shift_range = 0.1, \n",
    "                              shear_range = 0.15, zoom_range = [1.0, 1.25], horizontal_flip=True, \n",
    "                              fill_mode=\"nearest\");\n",
    "#Validação\n",
    "augVal = ImageDataGenerator();"
   ]
  },
  {
   "cell_type": "markdown",
   "id": "d420f143",
   "metadata": {},
   "source": [
    "Relu = "
   ]
  },
  {
   "cell_type": "markdown",
   "id": "b63381f3",
   "metadata": {},
   "source": [
    "Maxpooling = selecionar o pixel com maior valor em uma dimensão 2D de 2x2 (no exemplo abaixo, poderia ser 3x3, 4x4 etc). Nesse caso, com uma janela 2x2, o maxpooling vai reduzir o tamanho da imagem pela metade."
   ]
  },
  {
   "cell_type": "code",
   "execution_count": 8,
   "id": "7e1a1d2a",
   "metadata": {},
   "outputs": [],
   "source": [
    "#ABAIXO TEMOS UMA REDE SIMPLES. ELA É NA VERDADE \"A BASE\" DE TODAS AS REDES\n",
    "#PARA EXEMPLIFICAR, VAMOS DIVIDIR AS ETAPAS DA REDE VGG\n",
    "\n",
    "#REDE CONVOLUCIONAL:\n",
    "\n",
    "#model = Sequential()\n",
    "#32 = camadas da imagem e 5x5 é o tamanho da janela de varredura\n",
    "#model.add(Conv2D(32, (5, 5), activation='relu'))\n",
    "#maxpooling reduz o tamanho da imagem, 2x2 irá reduzir a imagem pela metade (vai pular 2 pixels a cada \"janelamento\")\n",
    "#model.add(MaxPooling2D((2, 2))) \n",
    "#Reduzir a janela de 5x5 para 3x3\n",
    "#model.add(Conv2D(64, (3, 3), activation='relu'))\n",
    "#model.add(MaxPooling2D((2, 2)))\n",
    "#model.add(Conv2D(128, (3, 3), activation='relu'))\n",
    "#model.add(MaxPooling2D((2, 2)))\n",
    "#model.add(Conv2D(256, (3, 3), activation='relu'))\n",
    "#model.add(MaxPooling2D((2, 2)))\n",
    "#Transforma o \"cubo\" em 1 vetor e 1 dimensão (vai receber um cubo de 28x28x8 e transformar em um vetor de 6272)\n",
    "\n",
    "#O PARÂMETRO INCLUDE_TOP = TRUE FAZ O BLOCO DE CÓDIGO ABAIXO, A PARTE \"FINAL\" DA REDE, A REDE NEURAL (NÃO CONVOLUCIONAL)\n",
    "#NO NOSSO EXEMPLO, O INCLUDE_TOP=FALSE. Significa que vamos fazer \"na mão\" essa etapa e desconsiderar o padrão do VGG\n",
    "\n",
    "#model.add(Flatten())\n",
    "#Camadas da rede neural:\n",
    "#Vai receber um vetor de 6272 e usar de input nas camadas da rede\n",
    "#Por isso temos que fazer várias camadas, para não \"estrangular\" a rede e obter o resultado final binário\n",
    "#model.add(Dense(512, activation='relu'))\n",
    "#model.add(Dense(256, activation='relu'))\n",
    "#Resultado final da rede. No caso dos budiões, estamos trabalhando com 3 resultados possíveis. Por isso é 3.\n",
    "#model.add(Dense(3, activation='sigmoid'))"
   ]
  },
  {
   "cell_type": "code",
   "execution_count": 9,
   "id": "69efda31",
   "metadata": {},
   "outputs": [],
   "source": [
    "#Declaração da rede VGG\n",
    "# Pega só as camadas de convolução e retreina as de classificação\n",
    "\n",
    "baseModel = VGG16(include_top=False, weights=\"imagenet\", input_tensor=Input(shape=(224, 224, 3)))"
   ]
  },
  {
   "cell_type": "code",
   "execution_count": 10,
   "id": "d33531c0",
   "metadata": {},
   "outputs": [],
   "source": [
    "#Como vamos usar imagenet, não faz sentido treinar a rede novamente pois já vamos usar o modelo treinado\n",
    "for layer in baseModel.layers:\n",
    "    layer.trainable = False"
   ]
  },
  {
   "cell_type": "code",
   "execution_count": 11,
   "id": "2158b2e4",
   "metadata": {},
   "outputs": [],
   "source": [
    "#Include_Top feito \"Na mão\":\n",
    "\n",
    "#É preciso criar novas camadas (headModel) pra zerar os pesos da VGG\n",
    "headModel = baseModel.output\n",
    "headModel = Flatten(name='flatten')(headModel) #(headModel) é o mesmo que concatenar usando o .add\n",
    "headModel = Dense(4096,  name='fc1')(headModel)\n",
    "headModel = Activation('relu',  name='act_fc1')(headModel)\n",
    "#Recurso para evitar overfit (regularização), no caso, 20% dos parâmetros são zeros a cada iteração da rede. \n",
    "#Isso força a rede a aprender outras formas de classificar\n",
    "headModel = Dropout(0.2) (headModel)\n",
    "headModel = Dense(2048,  name='fc2')(headModel)\n",
    "headModel = Activation('relu',  name='act_fc2')(headModel)\n",
    "headModel = Dropout(0.2) (headModel)\n",
    "headModel = Dense(512,  name='fc3')(headModel)\n",
    "headModel = Activation('relu',  name='act_fc3')(headModel)\n",
    "headModel = Dropout(0.2) (headModel)\n",
    "headModel = Dense(len(lb.classes_), activation=\"softmax\", name='predictions')(headModel)\n",
    "#Junta tudo num modelo só\n",
    "model = Model(inputs=baseModel.input, outputs=headModel)"
   ]
  },
  {
   "cell_type": "code",
   "execution_count": 12,
   "id": "8da40e7d",
   "metadata": {},
   "outputs": [],
   "source": [
    "#model.summary()"
   ]
  },
  {
   "cell_type": "code",
   "execution_count": 13,
   "id": "7be6649d",
   "metadata": {},
   "outputs": [],
   "source": [
    "if optimizer_name == 'Adam':\n",
    "    optimizer = Adam(learning_rate=learning_rate)\n",
    "\n",
    "if optimizer_name == 'SGD':\n",
    "    optimizer = SGD(learning_rate=learning_rate)"
   ]
  },
  {
   "cell_type": "code",
   "execution_count": 14,
   "id": "bd8a8d6f",
   "metadata": {},
   "outputs": [],
   "source": [
    "#No nosso modelo, o callback irá salvar o melhor modelo entre as épocas (epochs) - função Model Checkpoint\n",
    "callbacks = [\n",
    "    #ReduceLROnPlateau(monitor = 'val_acc',factor=0.85, patience=10, min_lr=0.000001, verbose=1),\n",
    "    ModelCheckpoint('C:\\\\Users\\\\LDT\\\\Desktop\\\\mestrado-unifesp\\\\exemplos\\\\modelo_budioes_vgg_' + optimizer_name + '_' + str(learning_rate) + \n",
    "                    '-ckpnt.model', save_best_only=True, monitor='val_accuracy', mode='max', verbose = 1)\n",
    "]  "
   ]
  },
  {
   "cell_type": "code",
   "execution_count": 15,
   "id": "83ce0695",
   "metadata": {},
   "outputs": [],
   "source": [
    "#Reservando espaço de memória para a rede funcionar\n",
    "#Ao final de cada época, será rodado o comando \"callbacks\"\n",
    "model.compile(loss=\"categorical_crossentropy\", optimizer=optimizer, metrics=['accuracy'])"
   ]
  },
  {
   "cell_type": "code",
   "execution_count": 16,
   "id": "02c88584",
   "metadata": {},
   "outputs": [
    {
     "name": "stdout",
     "output_type": "stream",
     "text": [
      "Found 485 images belonging to 3 classes.\n"
     ]
    }
   ],
   "source": [
    "#Função para buscar imagens\n",
    "#TREINO\n",
    "trainGen = augTrain.flow_from_directory(\n",
    "    trainFolder, #caminho da imagem\n",
    "    class_mode=\"categorical\", #o nome da pasta onde está a imagem será o nome da classe\n",
    "    target_size=(IMG_SIZE[0], IMG_SIZE[1]), #tamanho da imagem a ser redimensionada\n",
    "    color_mode=\"rgb\", #a imagem terá 3 canais RGB\n",
    "    shuffle=True, #vai embaralhar as imagens enquanto faz a leitura\n",
    "    batch_size=BATCH_SIZE); #de quantas em quantas imagens será feita a leitura (tamanho do BATCH)"
   ]
  },
  {
   "cell_type": "code",
   "execution_count": 17,
   "id": "b41b1505",
   "metadata": {},
   "outputs": [
    {
     "name": "stdout",
     "output_type": "stream",
     "text": [
      "Found 122 images belonging to 3 classes.\n"
     ]
    }
   ],
   "source": [
    "#Função para buscar imagens\n",
    "#VALIDAÇÃO\n",
    "valGen = augVal.flow_from_directory(\n",
    "    valFolder,\n",
    "    class_mode=\"categorical\",\n",
    "    target_size=(IMG_SIZE[0], IMG_SIZE[1]),\n",
    "    color_mode=\"rgb\",\n",
    "    shuffle=True,\n",
    "    batch_size=BATCH_SIZE);"
   ]
  },
  {
   "cell_type": "code",
   "execution_count": 18,
   "id": "7efb4850",
   "metadata": {},
   "outputs": [
    {
     "name": "stdout",
     "output_type": "stream",
     "text": [
      "Epoch 1/50\n",
      "30/30 [==============================] - 14s 308ms/step - loss: nan - accuracy: 0.3134 - val_loss: nan - val_accuracy: 0.3214\n",
      "\n",
      "Epoch 00001: val_accuracy improved from -inf to 0.32143, saving model to C:\\Users\\LDT\\Desktop\\mestrado-unifesp\\exemplos\\modelo_budioes_vgg_SGD_0.01-ckpnt.model\n",
      "INFO:tensorflow:Assets written to: C:\\Users\\LDT\\Desktop\\mestrado-unifesp\\exemplos\\modelo_budioes_vgg_SGD_0.01-ckpnt.model\\assets\n",
      "Epoch 2/50\n",
      "30/30 [==============================] - 8s 248ms/step - loss: nan - accuracy: 0.3070 - val_loss: nan - val_accuracy: 0.3125\n",
      "\n",
      "Epoch 00002: val_accuracy did not improve from 0.32143\n",
      "Epoch 3/50\n",
      "30/30 [==============================] - 8s 254ms/step - loss: nan - accuracy: 0.3028 - val_loss: nan - val_accuracy: 0.3304\n",
      "\n",
      "Epoch 00003: val_accuracy improved from 0.32143 to 0.33036, saving model to C:\\Users\\LDT\\Desktop\\mestrado-unifesp\\exemplos\\modelo_budioes_vgg_SGD_0.01-ckpnt.model\n",
      "INFO:tensorflow:Assets written to: C:\\Users\\LDT\\Desktop\\mestrado-unifesp\\exemplos\\modelo_budioes_vgg_SGD_0.01-ckpnt.model\\assets\n",
      "Epoch 4/50\n",
      "30/30 [==============================] - 8s 251ms/step - loss: nan - accuracy: 0.3134 - val_loss: nan - val_accuracy: 0.3304\n",
      "\n",
      "Epoch 00004: val_accuracy did not improve from 0.33036\n",
      "Epoch 5/50\n",
      "30/30 [==============================] - 8s 263ms/step - loss: nan - accuracy: 0.3104 - val_loss: nan - val_accuracy: 0.3036\n",
      "\n",
      "Epoch 00005: val_accuracy did not improve from 0.33036\n",
      "Epoch 6/50\n",
      "30/30 [==============================] - 8s 257ms/step - loss: nan - accuracy: 0.3092 - val_loss: nan - val_accuracy: 0.2946\n",
      "\n",
      "Epoch 00006: val_accuracy did not improve from 0.33036\n",
      "Epoch 7/50\n",
      "30/30 [==============================] - 8s 257ms/step - loss: nan - accuracy: 0.3156 - val_loss: nan - val_accuracy: 0.3125\n",
      "\n",
      "Epoch 00007: val_accuracy did not improve from 0.33036\n",
      "Epoch 8/50\n",
      "30/30 [==============================] - 8s 261ms/step - loss: nan - accuracy: 0.3028 - val_loss: nan - val_accuracy: 0.3214\n",
      "\n",
      "Epoch 00008: val_accuracy did not improve from 0.33036\n",
      "Epoch 9/50\n",
      "30/30 [==============================] - 8s 258ms/step - loss: nan - accuracy: 0.3156 - val_loss: nan - val_accuracy: 0.3036\n",
      "\n",
      "Epoch 00009: val_accuracy did not improve from 0.33036\n",
      "Epoch 10/50\n",
      "30/30 [==============================] - 8s 252ms/step - loss: nan - accuracy: 0.3070 - val_loss: nan - val_accuracy: 0.3125\n",
      "\n",
      "Epoch 00010: val_accuracy did not improve from 0.33036\n",
      "Epoch 11/50\n",
      "30/30 [==============================] - 8s 262ms/step - loss: nan - accuracy: 0.3113 - val_loss: nan - val_accuracy: 0.2857\n",
      "\n",
      "Epoch 00011: val_accuracy did not improve from 0.33036\n",
      "Epoch 12/50\n",
      "30/30 [==============================] - 8s 257ms/step - loss: nan - accuracy: 0.3134 - val_loss: nan - val_accuracy: 0.3304\n",
      "\n",
      "Epoch 00012: val_accuracy did not improve from 0.33036\n",
      "Epoch 13/50\n",
      "30/30 [==============================] - 8s 254ms/step - loss: nan - accuracy: 0.3049 - val_loss: nan - val_accuracy: 0.3125\n",
      "\n",
      "Epoch 00013: val_accuracy did not improve from 0.33036\n",
      "Epoch 14/50\n",
      "30/30 [==============================] - 8s 247ms/step - loss: nan - accuracy: 0.3092 - val_loss: nan - val_accuracy: 0.3125\n",
      "\n",
      "Epoch 00014: val_accuracy did not improve from 0.33036\n",
      "Epoch 15/50\n",
      "30/30 [==============================] - 8s 257ms/step - loss: nan - accuracy: 0.3134 - val_loss: nan - val_accuracy: 0.3125\n",
      "\n",
      "Epoch 00015: val_accuracy did not improve from 0.33036\n",
      "Epoch 16/50\n",
      "30/30 [==============================] - 8s 252ms/step - loss: nan - accuracy: 0.3092 - val_loss: nan - val_accuracy: 0.3125\n",
      "\n",
      "Epoch 00016: val_accuracy did not improve from 0.33036\n",
      "Epoch 17/50\n",
      "30/30 [==============================] - 8s 264ms/step - loss: nan - accuracy: 0.3070 - val_loss: nan - val_accuracy: 0.3125\n",
      "\n",
      "Epoch 00017: val_accuracy did not improve from 0.33036\n",
      "Epoch 18/50\n",
      "30/30 [==============================] - 8s 256ms/step - loss: nan - accuracy: 0.3134 - val_loss: nan - val_accuracy: 0.3214\n",
      "\n",
      "Epoch 00018: val_accuracy did not improve from 0.33036\n",
      "Epoch 19/50\n",
      "30/30 [==============================] - 8s 257ms/step - loss: nan - accuracy: 0.3113 - val_loss: nan - val_accuracy: 0.3214\n",
      "\n",
      "Epoch 00019: val_accuracy did not improve from 0.33036\n",
      "Epoch 20/50\n",
      "30/30 [==============================] - 8s 263ms/step - loss: nan - accuracy: 0.3070 - val_loss: nan - val_accuracy: 0.3214\n",
      "\n",
      "Epoch 00020: val_accuracy did not improve from 0.33036\n",
      "Epoch 21/50\n",
      "30/30 [==============================] - 8s 263ms/step - loss: nan - accuracy: 0.3049 - val_loss: nan - val_accuracy: 0.3214\n",
      "\n",
      "Epoch 00021: val_accuracy did not improve from 0.33036\n",
      "Epoch 22/50\n",
      "30/30 [==============================] - 8s 249ms/step - loss: nan - accuracy: 0.3070 - val_loss: nan - val_accuracy: 0.3125\n",
      "\n",
      "Epoch 00022: val_accuracy did not improve from 0.33036\n",
      "Epoch 23/50\n",
      "30/30 [==============================] - 8s 258ms/step - loss: nan - accuracy: 0.3092 - val_loss: nan - val_accuracy: 0.3036\n",
      "\n",
      "Epoch 00023: val_accuracy did not improve from 0.33036\n",
      "Epoch 24/50\n",
      "30/30 [==============================] - 8s 251ms/step - loss: nan - accuracy: 0.3070 - val_loss: nan - val_accuracy: 0.3304\n",
      "\n",
      "Epoch 00024: val_accuracy did not improve from 0.33036\n",
      "Epoch 25/50\n",
      "30/30 [==============================] - 8s 259ms/step - loss: nan - accuracy: 0.3113 - val_loss: nan - val_accuracy: 0.3214\n",
      "\n",
      "Epoch 00025: val_accuracy did not improve from 0.33036\n",
      "Epoch 26/50\n",
      "30/30 [==============================] - 8s 260ms/step - loss: nan - accuracy: 0.3070 - val_loss: nan - val_accuracy: 0.3125\n",
      "\n",
      "Epoch 00026: val_accuracy did not improve from 0.33036\n",
      "Epoch 27/50\n",
      "30/30 [==============================] - 8s 260ms/step - loss: nan - accuracy: 0.3070 - val_loss: nan - val_accuracy: 0.3214\n",
      "\n",
      "Epoch 00027: val_accuracy did not improve from 0.33036\n",
      "Epoch 28/50\n",
      "30/30 [==============================] - 8s 252ms/step - loss: nan - accuracy: 0.3113 - val_loss: nan - val_accuracy: 0.3036\n",
      "\n",
      "Epoch 00028: val_accuracy did not improve from 0.33036\n",
      "Epoch 29/50\n",
      "30/30 [==============================] - 8s 260ms/step - loss: nan - accuracy: 0.3113 - val_loss: nan - val_accuracy: 0.3214\n",
      "\n",
      "Epoch 00029: val_accuracy did not improve from 0.33036\n",
      "Epoch 30/50\n",
      "30/30 [==============================] - 8s 246ms/step - loss: nan - accuracy: 0.3113 - val_loss: nan - val_accuracy: 0.3125\n",
      "\n",
      "Epoch 00030: val_accuracy did not improve from 0.33036\n",
      "Epoch 31/50\n",
      "30/30 [==============================] - 8s 261ms/step - loss: nan - accuracy: 0.3092 - val_loss: nan - val_accuracy: 0.3393\n",
      "\n",
      "Epoch 00031: val_accuracy improved from 0.33036 to 0.33929, saving model to C:\\Users\\LDT\\Desktop\\mestrado-unifesp\\exemplos\\modelo_budioes_vgg_SGD_0.01-ckpnt.model\n",
      "INFO:tensorflow:Assets written to: C:\\Users\\LDT\\Desktop\\mestrado-unifesp\\exemplos\\modelo_budioes_vgg_SGD_0.01-ckpnt.model\\assets\n",
      "Epoch 32/50\n",
      "30/30 [==============================] - 8s 255ms/step - loss: nan - accuracy: 0.3113 - val_loss: nan - val_accuracy: 0.2946\n",
      "\n",
      "Epoch 00032: val_accuracy did not improve from 0.33929\n",
      "Epoch 33/50\n",
      "30/30 [==============================] - 8s 256ms/step - loss: nan - accuracy: 0.3134 - val_loss: nan - val_accuracy: 0.3214\n",
      "\n",
      "Epoch 00033: val_accuracy did not improve from 0.33929\n",
      "Epoch 34/50\n",
      "30/30 [==============================] - 8s 256ms/step - loss: nan - accuracy: 0.3177 - val_loss: nan - val_accuracy: 0.3304\n",
      "\n",
      "Epoch 00034: val_accuracy did not improve from 0.33929\n",
      "Epoch 35/50\n",
      "30/30 [==============================] - 8s 265ms/step - loss: nan - accuracy: 0.3134 - val_loss: nan - val_accuracy: 0.3125\n",
      "\n",
      "Epoch 00035: val_accuracy did not improve from 0.33929\n",
      "Epoch 36/50\n",
      "30/30 [==============================] - 8s 259ms/step - loss: nan - accuracy: 0.3134 - val_loss: nan - val_accuracy: 0.3125\n",
      "\n",
      "Epoch 00036: val_accuracy did not improve from 0.33929\n",
      "Epoch 37/50\n",
      "30/30 [==============================] - 8s 260ms/step - loss: nan - accuracy: 0.3070 - val_loss: nan - val_accuracy: 0.3304\n",
      "\n",
      "Epoch 00037: val_accuracy did not improve from 0.33929\n",
      "Epoch 38/50\n",
      "30/30 [==============================] - 8s 256ms/step - loss: nan - accuracy: 0.3177 - val_loss: nan - val_accuracy: 0.3304\n",
      "\n",
      "Epoch 00038: val_accuracy did not improve from 0.33929\n",
      "Epoch 39/50\n",
      "30/30 [==============================] - 8s 255ms/step - loss: nan - accuracy: 0.3092 - val_loss: nan - val_accuracy: 0.3125\n",
      "\n",
      "Epoch 00039: val_accuracy did not improve from 0.33929\n",
      "Epoch 40/50\n"
     ]
    },
    {
     "name": "stdout",
     "output_type": "stream",
     "text": [
      "30/30 [==============================] - 8s 258ms/step - loss: nan - accuracy: 0.3028 - val_loss: nan - val_accuracy: 0.3125\n",
      "\n",
      "Epoch 00040: val_accuracy did not improve from 0.33929\n",
      "Epoch 41/50\n",
      "30/30 [==============================] - 8s 264ms/step - loss: nan - accuracy: 0.3006 - val_loss: nan - val_accuracy: 0.3036\n",
      "\n",
      "Epoch 00041: val_accuracy did not improve from 0.33929\n",
      "Epoch 42/50\n",
      "30/30 [==============================] - 8s 255ms/step - loss: nan - accuracy: 0.3049 - val_loss: nan - val_accuracy: 0.2857\n",
      "\n",
      "Epoch 00042: val_accuracy did not improve from 0.33929\n",
      "Epoch 43/50\n",
      "30/30 [==============================] - 8s 263ms/step - loss: nan - accuracy: 0.3113 - val_loss: nan - val_accuracy: 0.2857\n",
      "\n",
      "Epoch 00043: val_accuracy did not improve from 0.33929\n",
      "Epoch 44/50\n",
      "30/30 [==============================] - 8s 250ms/step - loss: nan - accuracy: 0.3070 - val_loss: nan - val_accuracy: 0.2857\n",
      "\n",
      "Epoch 00044: val_accuracy did not improve from 0.33929\n",
      "Epoch 45/50\n",
      "30/30 [==============================] - 8s 260ms/step - loss: nan - accuracy: 0.3198 - val_loss: nan - val_accuracy: 0.3125\n",
      "\n",
      "Epoch 00045: val_accuracy did not improve from 0.33929\n",
      "Epoch 46/50\n",
      "30/30 [==============================] - 8s 253ms/step - loss: nan - accuracy: 0.3092 - val_loss: nan - val_accuracy: 0.3125\n",
      "\n",
      "Epoch 00046: val_accuracy did not improve from 0.33929\n",
      "Epoch 47/50\n",
      "30/30 [==============================] - 8s 266ms/step - loss: nan - accuracy: 0.3104 - val_loss: nan - val_accuracy: 0.2857\n",
      "\n",
      "Epoch 00047: val_accuracy did not improve from 0.33929\n",
      "Epoch 48/50\n",
      "30/30 [==============================] - 8s 258ms/step - loss: nan - accuracy: 0.3104 - val_loss: nan - val_accuracy: 0.3036\n",
      "\n",
      "Epoch 00048: val_accuracy did not improve from 0.33929\n",
      "Epoch 49/50\n",
      "30/30 [==============================] - 8s 261ms/step - loss: nan - accuracy: 0.3049 - val_loss: nan - val_accuracy: 0.3036\n",
      "\n",
      "Epoch 00049: val_accuracy did not improve from 0.33929\n",
      "Epoch 50/50\n",
      "30/30 [==============================] - 8s 252ms/step - loss: nan - accuracy: 0.3092 - val_loss: nan - val_accuracy: 0.3036\n",
      "\n",
      "Epoch 00050: val_accuracy did not improve from 0.33929\n"
     ]
    }
   ],
   "source": [
    "#fit_generator vai de fato treinar a rede\n",
    "trained_model = model.fit(trainGen, validation_data=valGen,\n",
    "                        steps_per_epoch=get_images(trainFolder)//BATCH_SIZE,\n",
    "                        validation_steps=get_images(valFolder) // BATCH_SIZE,\n",
    "                        epochs = EPOCHS, callbacks=callbacks, verbose =1);\n",
    "#Dividir o número de imagens pelo número de batchs para garantir que cada BATCH seja lido a cada época\n",
    "#tanto no treino (steps_per_epoch) quanto na validação (validation_steps)\n",
    "#verbose = dá output da rede a cada final de época\n"
   ]
  },
  {
   "cell_type": "code",
   "execution_count": 19,
   "id": "1947c248",
   "metadata": {},
   "outputs": [
    {
     "name": "stdout",
     "output_type": "stream",
     "text": [
      "INFO:tensorflow:Assets written to: C:\\Users\\LDT\\Desktop\\mestrado-unifesp\\exemplos\\modelo_budioes_vgg_SGD_0.01.model\\assets\n"
     ]
    }
   ],
   "source": [
    "#Salva o modelo (pesos + conexões entre os neurônios, ou seja, a estrutura da rede)\n",
    "model.save('C:\\\\Users\\\\LDT\\\\Desktop\\\\mestrado-unifesp\\\\exemplos\\\\modelo_budioes_vgg_' + optimizer_name + '_' + str(learning_rate) + \".model\");"
   ]
  },
  {
   "cell_type": "code",
   "execution_count": 20,
   "id": "5c0f972b",
   "metadata": {},
   "outputs": [],
   "source": [
    "#https://www.learndatasci.com/tutorials/hands-on-transfer-learning-keras/\n",
    "#https://neptune.ai/blog/keras-metrics"
   ]
  }
 ],
 "metadata": {
  "kernelspec": {
   "display_name": "Python 3 (ipykernel)",
   "language": "python",
   "name": "python3"
  },
  "language_info": {
   "codemirror_mode": {
    "name": "ipython",
    "version": 3
   },
   "file_extension": ".py",
   "mimetype": "text/x-python",
   "name": "python",
   "nbconvert_exporter": "python",
   "pygments_lexer": "ipython3",
   "version": "3.10.14"
  }
 },
 "nbformat": 4,
 "nbformat_minor": 5
}
