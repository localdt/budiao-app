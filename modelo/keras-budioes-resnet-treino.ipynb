{
 "cells": [
  {
   "cell_type": "code",
   "execution_count": 1,
   "id": "2ed35640",
   "metadata": {},
   "outputs": [],
   "source": [
    "from tensorflow.keras.optimizers import SGD, Adam\n",
    "from tensorflow.keras.applications import ResNet101\n",
    "from tensorflow.keras.callbacks import ReduceLROnPlateau, ModelCheckpoint\n",
    "from keras.preprocessing.image import ImageDataGenerator\n",
    "from keras.layers import Dense, Flatten, Dropout, Activation, Input, Conv2D, MaxPooling2D, GlobalAveragePooling2D\n",
    "from keras.models import Model\n",
    "from keras import Sequential\n",
    "from sklearn.preprocessing import LabelBinarizer\n",
    "import numpy as np\n",
    "import pickle\n",
    "import os"
   ]
  },
  {
   "cell_type": "code",
   "execution_count": 2,
   "id": "643fce27",
   "metadata": {},
   "outputs": [],
   "source": [
    "learning_rate = 0.01 #diminui o valor do learning rate pois estamos usando Adam como otimizador"
   ]
  },
  {
   "cell_type": "markdown",
   "id": "fb6f9967",
   "metadata": {},
   "source": [
    "## Treinamento Rede Resnet101"
   ]
  },
  {
   "cell_type": "code",
   "execution_count": 3,
   "id": "fa5ec7c1",
   "metadata": {},
   "outputs": [],
   "source": [
    "def get_images(pasta):\n",
    "    exts = ['.PNG','.JPG','.JPEG','.TIFF','.GIF','.BMP']\n",
    "    tot_images = 0\n",
    "    for sf in [name for name in os.listdir(pasta) if os.path.isdir(os.path.join(pasta, name))]:\n",
    "        subdir = os.path.join(pasta,sf)\n",
    "        tot_images = tot_images + len([name for name in os.listdir(subdir) if os.path.splitext(name)[1].upper() in exts])\n",
    "    return tot_images"
   ]
  },
  {
   "cell_type": "code",
   "execution_count": 4,
   "id": "ee94bab0",
   "metadata": {},
   "outputs": [],
   "source": [
    "# FUNÇÃO PARA LER O NOME DAS CLASSES\n",
    "def get_labels(pasta):\n",
    "    return [name for name in os.listdir(pasta) if os.path.isdir(os.path.join(pasta, name))];\n"
   ]
  },
  {
   "cell_type": "code",
   "execution_count": 5,
   "id": "9b6dee83",
   "metadata": {},
   "outputs": [],
   "source": [
    "EPOCHS = 50;\n",
    "BATCH_SIZE = 16; #serão gerados batches de 16 imagens (a rede vê 16 imagens de cada vez durante o treino). Esse número é para facilitar o processamento conforme a memória do computador durante o treino, colocamos 16 não travar\n",
    "IMG_SIZE = (224,224,3);\n",
    "optimizer_name = 'SGD'"
   ]
  },
  {
   "cell_type": "code",
   "execution_count": 6,
   "id": "a21a2a25",
   "metadata": {},
   "outputs": [],
   "source": [
    "trainFolder = 'C:\\\\Users\\\\LDT\\\\Desktop\\\\mestrado-unifesp\\\\db\\\\train'\n",
    "valFolder = 'C:\\\\Users\\\\LDT\\\\Desktop\\\\mestrado-unifesp\\\\db\\\\val'\n",
    "labels = get_labels(trainFolder)\n",
    "labels = np.array(labels);\n",
    "\n",
    "# Organiza os labels em matriz e salva, para posterior uso em classificação\n",
    "lb = LabelBinarizer();\n",
    "labels = lb.fit_transform(labels);\n",
    "f = open('C:\\\\Users\\\\LDT\\\\Desktop\\\\mestrado-unifesp\\\\budioes_resnet_' + optimizer_name + '_' + str(learning_rate) + \".pickle\", \"wb\")\n",
    "f.write(pickle.dumps(lb));\n",
    "f.close();"
   ]
  },
  {
   "cell_type": "markdown",
   "id": "de21a0c9",
   "metadata": {},
   "source": [
    "ImageDataGenerator = Carrega aos poucos as imagens em memória para fazer a leitura (para não estourar a memória)"
   ]
  },
  {
   "cell_type": "code",
   "execution_count": 7,
   "id": "07f4c6f0",
   "metadata": {},
   "outputs": [],
   "source": [
    "#ImageDataGenerator = objeto para buscar as imagens em uma pasta\n",
    "#Treino\n",
    "augTrain = ImageDataGenerator(rotation_range=20, width_shift_range = 0.1, height_shift_range = 0.1, \n",
    "                              shear_range = 0.15, zoom_range = [1.0, 1.25], horizontal_flip=True, \n",
    "                              fill_mode=\"nearest\");\n",
    "#Validação\n",
    "augVal = ImageDataGenerator();"
   ]
  },
  {
   "cell_type": "markdown",
   "id": "d420f143",
   "metadata": {},
   "source": [
    "Relu = "
   ]
  },
  {
   "cell_type": "markdown",
   "id": "b63381f3",
   "metadata": {},
   "source": [
    "Maxpooling = selecionar o pixel com maior valor em uma dimensão 2D de 2x2 (no exemplo abaixo, poderia ser 3x3, 4x4 etc). Nesse caso, com uma janela 2x2, o maxpooling vai reduzir o tamanho da imagem pela metade."
   ]
  },
  {
   "cell_type": "code",
   "execution_count": 9,
   "id": "69efda31",
   "metadata": {},
   "outputs": [],
   "source": [
    "#Declaração da rede RESNET\n",
    "# Pega só as camadas de convolução e retreina as de classificação\n",
    "\n",
    "baseModel = ResNet101(include_top=False, weights=\"imagenet\", input_tensor=Input(shape=(224, 224, 3)))"
   ]
  },
  {
   "cell_type": "code",
   "execution_count": 10,
   "id": "d33531c0",
   "metadata": {},
   "outputs": [],
   "source": [
    "#Como vamos usar imagenet, não faz sentido treinar a rede novamente pois já vamos usar o modelo treinado\n",
    "for layer in baseModel.layers:\n",
    "    layer.trainable = False"
   ]
  },
  {
   "cell_type": "code",
   "execution_count": 11,
   "id": "2158b2e4",
   "metadata": {},
   "outputs": [],
   "source": [
    "#Include_Top feito \"Na mão\":\n",
    "\n",
    "#É preciso criar novas camadas (headModel) pra zerar os pesos da Resnet\n",
    "headModel = baseModel.output\n",
    "headModel = GlobalAveragePooling2D(name=\"avg_pool\")(headModel)\n",
    "headModel = Dense(len(lb.classes_), activation=\"softmax\", name='predictions')(headModel)\n",
    "#Junta tudo num modelo só\n",
    "model = Model(inputs=baseModel.input, outputs=headModel)"
   ]
  },
  {
   "cell_type": "code",
   "execution_count": 12,
   "id": "8da40e7d",
   "metadata": {},
   "outputs": [],
   "source": [
    "#model.summary()"
   ]
  },
  {
   "cell_type": "code",
   "execution_count": 13,
   "id": "7be6649d",
   "metadata": {},
   "outputs": [],
   "source": [
    "if optimizer_name == 'Adam':\n",
    "    optimizer = Adam(learning_rate=learning_rate)\n",
    "\n",
    "if optimizer_name == 'SGD':\n",
    "    optimizer = SGD(learning_rate=learning_rate)"
   ]
  },
  {
   "cell_type": "code",
   "execution_count": 14,
   "id": "bd8a8d6f",
   "metadata": {},
   "outputs": [],
   "source": [
    "#No nosso modelo, o callback irá salvar o melhor modelo entre as épocas (epochs) - função Model Checkpoint\n",
    "callbacks = [\n",
    "    #ReduceLROnPlateau(monitor = 'val_acc',factor=0.85, patience=10, min_lr=0.000001, verbose=1),\n",
    "    ModelCheckpoint('C:\\\\Users\\\\LDT\\\\Desktop\\\\mestrado-unifesp\\\\exemplos\\\\modelo_budioes_resnet_' + optimizer_name + '_' + str(learning_rate) + \n",
    "                    '-ckpnt.model', save_best_only=True, monitor='val_accuracy', mode='max', verbose = 1)\n",
    "]  "
   ]
  },
  {
   "cell_type": "code",
   "execution_count": 15,
   "id": "83ce0695",
   "metadata": {},
   "outputs": [],
   "source": [
    "#Reservando espaço de memória para a rede funcionar\n",
    "#Ao final de cada época, será rodado o comando \"callbacks\"\n",
    "model.compile(loss=\"categorical_crossentropy\", optimizer=optimizer, metrics=['accuracy'])"
   ]
  },
  {
   "cell_type": "code",
   "execution_count": 16,
   "id": "02c88584",
   "metadata": {},
   "outputs": [
    {
     "name": "stdout",
     "output_type": "stream",
     "text": [
      "Found 485 images belonging to 3 classes.\n"
     ]
    }
   ],
   "source": [
    "#Função para buscar imagens\n",
    "#TREINO\n",
    "trainGen = augTrain.flow_from_directory(\n",
    "    trainFolder, #caminho da imagem\n",
    "    class_mode=\"categorical\", #o nome da pasta onde está a imagem será o nome da classe\n",
    "    target_size=(IMG_SIZE[0], IMG_SIZE[1]), #tamanho da imagem a ser redimensionada\n",
    "    color_mode=\"rgb\", #a imagem terá 3 canais RGB\n",
    "    shuffle=True, #vai embaralhar as imagens enquanto faz a leitura\n",
    "    batch_size=BATCH_SIZE); #de quantas em quantas imagens será feita a leitura (tamanho do BATCH)"
   ]
  },
  {
   "cell_type": "code",
   "execution_count": 17,
   "id": "b41b1505",
   "metadata": {},
   "outputs": [
    {
     "name": "stdout",
     "output_type": "stream",
     "text": [
      "Found 122 images belonging to 3 classes.\n"
     ]
    }
   ],
   "source": [
    "#Função para buscar imagens\n",
    "#VALIDAÇÃO\n",
    "valGen = augVal.flow_from_directory(\n",
    "    valFolder,\n",
    "    class_mode=\"categorical\",\n",
    "    target_size=(IMG_SIZE[0], IMG_SIZE[1]),\n",
    "    color_mode=\"rgb\",\n",
    "    shuffle=True,\n",
    "    batch_size=BATCH_SIZE);"
   ]
  },
  {
   "cell_type": "code",
   "execution_count": 18,
   "id": "7efb4850",
   "metadata": {},
   "outputs": [
    {
     "name": "stdout",
     "output_type": "stream",
     "text": [
      "Epoch 1/50\n",
      "30/30 [==============================] - 20s 373ms/step - loss: 2.0170 - accuracy: 0.4968 - val_loss: 1.2659 - val_accuracy: 0.5982\n",
      "\n",
      "Epoch 00001: val_accuracy improved from -inf to 0.59821, saving model to C:\\Users\\LDT\\Desktop\\mestrado-unifesp\\exemplos\\modelo_budioes_resnet_SGD_0.01-ckpnt.model\n",
      "INFO:tensorflow:Assets written to: C:\\Users\\LDT\\Desktop\\mestrado-unifesp\\exemplos\\modelo_budioes_resnet_SGD_0.01-ckpnt.model\\assets\n"
     ]
    },
    {
     "name": "stderr",
     "output_type": "stream",
     "text": [
      "C:\\Users\\LDT\\anaconda3\\envs\\keras-env\\lib\\site-packages\\keras\\utils\\generic_utils.py:494: CustomMaskWarning: Custom mask layers require a config and must override get_config. When loading, the custom mask layer must be passed to the custom_objects argument.\n",
      "  warnings.warn('Custom mask layers require a config and must override '\n"
     ]
    },
    {
     "name": "stdout",
     "output_type": "stream",
     "text": [
      "Epoch 2/50\n",
      "30/30 [==============================] - 9s 272ms/step - loss: 0.4539 - accuracy: 0.8209 - val_loss: 0.3309 - val_accuracy: 0.8393\n",
      "\n",
      "Epoch 00002: val_accuracy improved from 0.59821 to 0.83929, saving model to C:\\Users\\LDT\\Desktop\\mestrado-unifesp\\exemplos\\modelo_budioes_resnet_SGD_0.01-ckpnt.model\n",
      "INFO:tensorflow:Assets written to: C:\\Users\\LDT\\Desktop\\mestrado-unifesp\\exemplos\\modelo_budioes_resnet_SGD_0.01-ckpnt.model\\assets\n"
     ]
    },
    {
     "name": "stderr",
     "output_type": "stream",
     "text": [
      "C:\\Users\\LDT\\anaconda3\\envs\\keras-env\\lib\\site-packages\\keras\\utils\\generic_utils.py:494: CustomMaskWarning: Custom mask layers require a config and must override get_config. When loading, the custom mask layer must be passed to the custom_objects argument.\n",
      "  warnings.warn('Custom mask layers require a config and must override '\n"
     ]
    },
    {
     "name": "stdout",
     "output_type": "stream",
     "text": [
      "Epoch 3/50\n",
      "30/30 [==============================] - 9s 275ms/step - loss: 0.2641 - accuracy: 0.8998 - val_loss: 0.2698 - val_accuracy: 0.8929\n",
      "\n",
      "Epoch 00003: val_accuracy improved from 0.83929 to 0.89286, saving model to C:\\Users\\LDT\\Desktop\\mestrado-unifesp\\exemplos\\modelo_budioes_resnet_SGD_0.01-ckpnt.model\n",
      "INFO:tensorflow:Assets written to: C:\\Users\\LDT\\Desktop\\mestrado-unifesp\\exemplos\\modelo_budioes_resnet_SGD_0.01-ckpnt.model\\assets\n"
     ]
    },
    {
     "name": "stderr",
     "output_type": "stream",
     "text": [
      "C:\\Users\\LDT\\anaconda3\\envs\\keras-env\\lib\\site-packages\\keras\\utils\\generic_utils.py:494: CustomMaskWarning: Custom mask layers require a config and must override get_config. When loading, the custom mask layer must be passed to the custom_objects argument.\n",
      "  warnings.warn('Custom mask layers require a config and must override '\n"
     ]
    },
    {
     "name": "stdout",
     "output_type": "stream",
     "text": [
      "Epoch 4/50\n",
      "30/30 [==============================] - 9s 282ms/step - loss: 0.2316 - accuracy: 0.9190 - val_loss: 0.2517 - val_accuracy: 0.9018\n",
      "\n",
      "Epoch 00004: val_accuracy improved from 0.89286 to 0.90179, saving model to C:\\Users\\LDT\\Desktop\\mestrado-unifesp\\exemplos\\modelo_budioes_resnet_SGD_0.01-ckpnt.model\n",
      "INFO:tensorflow:Assets written to: C:\\Users\\LDT\\Desktop\\mestrado-unifesp\\exemplos\\modelo_budioes_resnet_SGD_0.01-ckpnt.model\\assets\n"
     ]
    },
    {
     "name": "stderr",
     "output_type": "stream",
     "text": [
      "C:\\Users\\LDT\\anaconda3\\envs\\keras-env\\lib\\site-packages\\keras\\utils\\generic_utils.py:494: CustomMaskWarning: Custom mask layers require a config and must override get_config. When loading, the custom mask layer must be passed to the custom_objects argument.\n",
      "  warnings.warn('Custom mask layers require a config and must override '\n"
     ]
    },
    {
     "name": "stdout",
     "output_type": "stream",
     "text": [
      "Epoch 5/50\n",
      "30/30 [==============================] - 9s 277ms/step - loss: 0.2068 - accuracy: 0.9275 - val_loss: 0.2503 - val_accuracy: 0.9107\n",
      "\n",
      "Epoch 00005: val_accuracy improved from 0.90179 to 0.91071, saving model to C:\\Users\\LDT\\Desktop\\mestrado-unifesp\\exemplos\\modelo_budioes_resnet_SGD_0.01-ckpnt.model\n",
      "INFO:tensorflow:Assets written to: C:\\Users\\LDT\\Desktop\\mestrado-unifesp\\exemplos\\modelo_budioes_resnet_SGD_0.01-ckpnt.model\\assets\n"
     ]
    },
    {
     "name": "stderr",
     "output_type": "stream",
     "text": [
      "C:\\Users\\LDT\\anaconda3\\envs\\keras-env\\lib\\site-packages\\keras\\utils\\generic_utils.py:494: CustomMaskWarning: Custom mask layers require a config and must override get_config. When loading, the custom mask layer must be passed to the custom_objects argument.\n",
      "  warnings.warn('Custom mask layers require a config and must override '\n"
     ]
    },
    {
     "name": "stdout",
     "output_type": "stream",
     "text": [
      "Epoch 6/50\n",
      "30/30 [==============================] - 9s 274ms/step - loss: 0.1789 - accuracy: 0.9296 - val_loss: 0.2303 - val_accuracy: 0.9107\n",
      "\n",
      "Epoch 00006: val_accuracy did not improve from 0.91071\n",
      "Epoch 7/50\n",
      "30/30 [==============================] - 9s 286ms/step - loss: 0.1794 - accuracy: 0.9424 - val_loss: 0.2842 - val_accuracy: 0.8571\n",
      "\n",
      "Epoch 00007: val_accuracy did not improve from 0.91071\n",
      "Epoch 8/50\n",
      "30/30 [==============================] - 8s 278ms/step - loss: 0.1317 - accuracy: 0.9574 - val_loss: 0.2220 - val_accuracy: 0.9286\n",
      "\n",
      "Epoch 00008: val_accuracy improved from 0.91071 to 0.92857, saving model to C:\\Users\\LDT\\Desktop\\mestrado-unifesp\\exemplos\\modelo_budioes_resnet_SGD_0.01-ckpnt.model\n",
      "INFO:tensorflow:Assets written to: C:\\Users\\LDT\\Desktop\\mestrado-unifesp\\exemplos\\modelo_budioes_resnet_SGD_0.01-ckpnt.model\\assets\n"
     ]
    },
    {
     "name": "stderr",
     "output_type": "stream",
     "text": [
      "C:\\Users\\LDT\\anaconda3\\envs\\keras-env\\lib\\site-packages\\keras\\utils\\generic_utils.py:494: CustomMaskWarning: Custom mask layers require a config and must override get_config. When loading, the custom mask layer must be passed to the custom_objects argument.\n",
      "  warnings.warn('Custom mask layers require a config and must override '\n"
     ]
    },
    {
     "name": "stdout",
     "output_type": "stream",
     "text": [
      "Epoch 9/50\n",
      "30/30 [==============================] - 9s 284ms/step - loss: 0.1227 - accuracy: 0.9638 - val_loss: 0.2427 - val_accuracy: 0.9107\n",
      "\n",
      "Epoch 00009: val_accuracy did not improve from 0.92857\n",
      "Epoch 10/50\n",
      "30/30 [==============================] - 9s 281ms/step - loss: 0.1227 - accuracy: 0.9552 - val_loss: 0.2209 - val_accuracy: 0.9107\n",
      "\n",
      "Epoch 00010: val_accuracy did not improve from 0.92857\n",
      "Epoch 11/50\n",
      "30/30 [==============================] - 9s 283ms/step - loss: 0.1086 - accuracy: 0.9680 - val_loss: 0.1900 - val_accuracy: 0.9107\n",
      "\n",
      "Epoch 00011: val_accuracy did not improve from 0.92857\n",
      "Epoch 12/50\n",
      "30/30 [==============================] - 9s 281ms/step - loss: 0.0881 - accuracy: 0.9744 - val_loss: 0.1800 - val_accuracy: 0.9286\n",
      "\n",
      "Epoch 00012: val_accuracy did not improve from 0.92857\n",
      "Epoch 13/50\n",
      "30/30 [==============================] - 9s 288ms/step - loss: 0.0700 - accuracy: 0.9875 - val_loss: 0.2343 - val_accuracy: 0.9107\n",
      "\n",
      "Epoch 00013: val_accuracy did not improve from 0.92857\n",
      "Epoch 14/50\n",
      "30/30 [==============================] - 9s 281ms/step - loss: 0.1020 - accuracy: 0.9744 - val_loss: 0.2089 - val_accuracy: 0.9196\n",
      "\n",
      "Epoch 00014: val_accuracy did not improve from 0.92857\n",
      "Epoch 15/50\n",
      "30/30 [==============================] - 9s 291ms/step - loss: 0.0871 - accuracy: 0.9744 - val_loss: 0.2206 - val_accuracy: 0.9107\n",
      "\n",
      "Epoch 00015: val_accuracy did not improve from 0.92857\n",
      "Epoch 16/50\n",
      "30/30 [==============================] - 9s 282ms/step - loss: 0.0915 - accuracy: 0.9680 - val_loss: 0.2048 - val_accuracy: 0.9018\n",
      "\n",
      "Epoch 00016: val_accuracy did not improve from 0.92857\n",
      "Epoch 17/50\n",
      "30/30 [==============================] - 9s 289ms/step - loss: 0.0694 - accuracy: 0.9851 - val_loss: 0.2050 - val_accuracy: 0.9196\n",
      "\n",
      "Epoch 00017: val_accuracy did not improve from 0.92857\n",
      "Epoch 18/50\n",
      "30/30 [==============================] - 9s 281ms/step - loss: 0.0735 - accuracy: 0.9808 - val_loss: 0.1548 - val_accuracy: 0.9464\n",
      "\n",
      "Epoch 00018: val_accuracy improved from 0.92857 to 0.94643, saving model to C:\\Users\\LDT\\Desktop\\mestrado-unifesp\\exemplos\\modelo_budioes_resnet_SGD_0.01-ckpnt.model\n",
      "INFO:tensorflow:Assets written to: C:\\Users\\LDT\\Desktop\\mestrado-unifesp\\exemplos\\modelo_budioes_resnet_SGD_0.01-ckpnt.model\\assets\n"
     ]
    },
    {
     "name": "stderr",
     "output_type": "stream",
     "text": [
      "C:\\Users\\LDT\\anaconda3\\envs\\keras-env\\lib\\site-packages\\keras\\utils\\generic_utils.py:494: CustomMaskWarning: Custom mask layers require a config and must override get_config. When loading, the custom mask layer must be passed to the custom_objects argument.\n",
      "  warnings.warn('Custom mask layers require a config and must override '\n"
     ]
    },
    {
     "name": "stdout",
     "output_type": "stream",
     "text": [
      "Epoch 19/50\n",
      "30/30 [==============================] - 9s 282ms/step - loss: 0.0744 - accuracy: 0.9829 - val_loss: 0.2137 - val_accuracy: 0.9286\n",
      "\n",
      "Epoch 00019: val_accuracy did not improve from 0.94643\n",
      "Epoch 20/50\n",
      "30/30 [==============================] - 9s 291ms/step - loss: 0.0570 - accuracy: 0.9893 - val_loss: 0.2244 - val_accuracy: 0.9464\n",
      "\n",
      "Epoch 00020: val_accuracy did not improve from 0.94643\n",
      "Epoch 21/50\n",
      "30/30 [==============================] - 9s 290ms/step - loss: 0.0525 - accuracy: 0.9936 - val_loss: 0.2233 - val_accuracy: 0.9196\n",
      "\n",
      "Epoch 00021: val_accuracy did not improve from 0.94643\n",
      "Epoch 22/50\n",
      "30/30 [==============================] - 9s 291ms/step - loss: 0.0607 - accuracy: 0.9915 - val_loss: 0.2088 - val_accuracy: 0.9107\n",
      "\n",
      "Epoch 00022: val_accuracy did not improve from 0.94643\n",
      "Epoch 23/50\n",
      "30/30 [==============================] - 9s 288ms/step - loss: 0.0564 - accuracy: 0.9893 - val_loss: 0.2053 - val_accuracy: 0.9107\n",
      "\n",
      "Epoch 00023: val_accuracy did not improve from 0.94643\n",
      "Epoch 24/50\n",
      "30/30 [==============================] - 9s 283ms/step - loss: 0.0552 - accuracy: 0.9893 - val_loss: 0.1732 - val_accuracy: 0.9286\n",
      "\n",
      "Epoch 00024: val_accuracy did not improve from 0.94643\n",
      "Epoch 25/50\n",
      "30/30 [==============================] - 9s 284ms/step - loss: 0.0539 - accuracy: 0.9915 - val_loss: 0.1719 - val_accuracy: 0.9375\n",
      "\n",
      "Epoch 00025: val_accuracy did not improve from 0.94643\n",
      "Epoch 26/50\n",
      "30/30 [==============================] - 9s 284ms/step - loss: 0.0511 - accuracy: 0.9851 - val_loss: 0.2129 - val_accuracy: 0.9107\n",
      "\n",
      "Epoch 00026: val_accuracy did not improve from 0.94643\n",
      "Epoch 27/50\n",
      "30/30 [==============================] - 9s 288ms/step - loss: 0.0624 - accuracy: 0.9787 - val_loss: 0.2021 - val_accuracy: 0.9107\n",
      "\n",
      "Epoch 00027: val_accuracy did not improve from 0.94643\n",
      "Epoch 28/50\n",
      "30/30 [==============================] - 9s 280ms/step - loss: 0.0509 - accuracy: 0.9872 - val_loss: 0.1167 - val_accuracy: 0.9643\n",
      "\n",
      "Epoch 00028: val_accuracy improved from 0.94643 to 0.96429, saving model to C:\\Users\\LDT\\Desktop\\mestrado-unifesp\\exemplos\\modelo_budioes_resnet_SGD_0.01-ckpnt.model\n",
      "INFO:tensorflow:Assets written to: C:\\Users\\LDT\\Desktop\\mestrado-unifesp\\exemplos\\modelo_budioes_resnet_SGD_0.01-ckpnt.model\\assets\n"
     ]
    },
    {
     "name": "stderr",
     "output_type": "stream",
     "text": [
      "C:\\Users\\LDT\\anaconda3\\envs\\keras-env\\lib\\site-packages\\keras\\utils\\generic_utils.py:494: CustomMaskWarning: Custom mask layers require a config and must override get_config. When loading, the custom mask layer must be passed to the custom_objects argument.\n",
      "  warnings.warn('Custom mask layers require a config and must override '\n"
     ]
    },
    {
     "name": "stdout",
     "output_type": "stream",
     "text": [
      "Epoch 29/50\n",
      "30/30 [==============================] - 9s 286ms/step - loss: 0.0550 - accuracy: 0.9808 - val_loss: 0.1722 - val_accuracy: 0.9196\n",
      "\n",
      "Epoch 00029: val_accuracy did not improve from 0.96429\n",
      "Epoch 30/50\n",
      "30/30 [==============================] - 9s 280ms/step - loss: 0.0481 - accuracy: 0.9893 - val_loss: 0.1951 - val_accuracy: 0.9107\n",
      "\n",
      "Epoch 00030: val_accuracy did not improve from 0.96429\n",
      "Epoch 31/50\n",
      "30/30 [==============================] - 9s 285ms/step - loss: 0.0345 - accuracy: 0.9979 - val_loss: 0.1720 - val_accuracy: 0.9375\n",
      "\n",
      "Epoch 00031: val_accuracy did not improve from 0.96429\n",
      "Epoch 32/50\n",
      "30/30 [==============================] - 9s 286ms/step - loss: 0.0466 - accuracy: 0.9893 - val_loss: 0.2559 - val_accuracy: 0.9018\n",
      "\n",
      "Epoch 00032: val_accuracy did not improve from 0.96429\n",
      "Epoch 33/50\n",
      "30/30 [==============================] - 9s 291ms/step - loss: 0.0455 - accuracy: 0.9893 - val_loss: 0.1817 - val_accuracy: 0.9286\n",
      "\n",
      "Epoch 00033: val_accuracy did not improve from 0.96429\n",
      "Epoch 34/50\n",
      "30/30 [==============================] - 8s 285ms/step - loss: 0.0441 - accuracy: 0.9915 - val_loss: 0.2085 - val_accuracy: 0.9286\n",
      "\n",
      "Epoch 00034: val_accuracy did not improve from 0.96429\n",
      "Epoch 35/50\n",
      "30/30 [==============================] - 9s 289ms/step - loss: 0.0408 - accuracy: 0.9936 - val_loss: 0.1881 - val_accuracy: 0.9196\n",
      "\n",
      "Epoch 00035: val_accuracy did not improve from 0.96429\n",
      "Epoch 36/50\n",
      "30/30 [==============================] - 9s 284ms/step - loss: 0.0381 - accuracy: 0.9893 - val_loss: 0.1855 - val_accuracy: 0.9286\n",
      "\n",
      "Epoch 00036: val_accuracy did not improve from 0.96429\n",
      "Epoch 37/50\n",
      "30/30 [==============================] - 9s 294ms/step - loss: 0.0343 - accuracy: 0.9979 - val_loss: 0.1747 - val_accuracy: 0.9196\n",
      "\n",
      "Epoch 00037: val_accuracy did not improve from 0.96429\n",
      "Epoch 38/50\n",
      "30/30 [==============================] - 9s 288ms/step - loss: 0.0361 - accuracy: 0.9957 - val_loss: 0.1986 - val_accuracy: 0.9107\n",
      "\n",
      "Epoch 00038: val_accuracy did not improve from 0.96429\n",
      "Epoch 39/50\n",
      "30/30 [==============================] - 9s 288ms/step - loss: 0.0376 - accuracy: 0.9915 - val_loss: 0.1881 - val_accuracy: 0.9196\n",
      "\n",
      "Epoch 00039: val_accuracy did not improve from 0.96429\n",
      "Epoch 40/50\n",
      "30/30 [==============================] - 9s 277ms/step - loss: 0.0466 - accuracy: 0.9936 - val_loss: 0.2156 - val_accuracy: 0.9286\n",
      "\n",
      "Epoch 00040: val_accuracy did not improve from 0.96429\n",
      "Epoch 41/50\n",
      "30/30 [==============================] - 9s 289ms/step - loss: 0.0308 - accuracy: 0.9979 - val_loss: 0.1922 - val_accuracy: 0.9375\n",
      "\n",
      "Epoch 00041: val_accuracy did not improve from 0.96429\n",
      "Epoch 42/50\n",
      "30/30 [==============================] - 9s 285ms/step - loss: 0.0328 - accuracy: 0.9936 - val_loss: 0.2315 - val_accuracy: 0.9196\n",
      "\n",
      "Epoch 00042: val_accuracy did not improve from 0.96429\n",
      "Epoch 43/50\n",
      "30/30 [==============================] - 9s 284ms/step - loss: 0.0440 - accuracy: 0.9893 - val_loss: 0.1463 - val_accuracy: 0.9286\n",
      "\n",
      "Epoch 00043: val_accuracy did not improve from 0.96429\n",
      "Epoch 44/50\n",
      "30/30 [==============================] - 9s 285ms/step - loss: 0.0371 - accuracy: 0.9936 - val_loss: 0.2542 - val_accuracy: 0.9375\n",
      "\n",
      "Epoch 00044: val_accuracy did not improve from 0.96429\n",
      "Epoch 45/50\n",
      "30/30 [==============================] - 8s 276ms/step - loss: 0.0330 - accuracy: 0.9957 - val_loss: 0.1911 - val_accuracy: 0.9375\n",
      "\n",
      "Epoch 00045: val_accuracy did not improve from 0.96429\n",
      "Epoch 46/50\n",
      "30/30 [==============================] - 9s 288ms/step - loss: 0.0389 - accuracy: 0.9893 - val_loss: 0.2032 - val_accuracy: 0.9107\n",
      "\n",
      "Epoch 00046: val_accuracy did not improve from 0.96429\n",
      "Epoch 47/50\n",
      "30/30 [==============================] - 9s 285ms/step - loss: 0.0337 - accuracy: 0.9936 - val_loss: 0.1964 - val_accuracy: 0.9196\n",
      "\n",
      "Epoch 00047: val_accuracy did not improve from 0.96429\n",
      "Epoch 48/50\n",
      "30/30 [==============================] - 9s 289ms/step - loss: 0.0352 - accuracy: 0.9957 - val_loss: 0.1905 - val_accuracy: 0.9286\n",
      "\n",
      "Epoch 00048: val_accuracy did not improve from 0.96429\n",
      "Epoch 49/50\n",
      "30/30 [==============================] - 8s 281ms/step - loss: 0.0306 - accuracy: 0.9957 - val_loss: 0.1696 - val_accuracy: 0.9196\n",
      "\n",
      "Epoch 00049: val_accuracy did not improve from 0.96429\n",
      "Epoch 50/50\n",
      "30/30 [==============================] - 9s 297ms/step - loss: 0.0300 - accuracy: 0.9957 - val_loss: 0.1562 - val_accuracy: 0.9375\n",
      "\n",
      "Epoch 00050: val_accuracy did not improve from 0.96429\n"
     ]
    }
   ],
   "source": [
    "#fit_generator vai de fato treinar a rede\n",
    "trained_model = model.fit(trainGen, validation_data=valGen,\n",
    "                        steps_per_epoch=get_images(trainFolder)//BATCH_SIZE,\n",
    "                        validation_steps=get_images(valFolder) // BATCH_SIZE,\n",
    "                        epochs = EPOCHS, callbacks=callbacks, verbose =1);\n",
    "#Dividir o número de imagens pelo número de batchs para garantir que cada BATCH seja lido a cada época\n",
    "#tanto no treino (steps_per_epoch) quanto na validação (validation_steps)\n",
    "#verbose = dá output da rede a cada final de época\n"
   ]
  },
  {
   "cell_type": "code",
   "execution_count": 19,
   "id": "1947c248",
   "metadata": {},
   "outputs": [
    {
     "name": "stdout",
     "output_type": "stream",
     "text": [
      "INFO:tensorflow:Assets written to: C:\\Users\\LDT\\Desktop\\mestrado-unifesp\\exemplos\\modelo_budioes_resnet_SGD_0.01.model\\assets\n"
     ]
    },
    {
     "name": "stderr",
     "output_type": "stream",
     "text": [
      "C:\\Users\\LDT\\anaconda3\\envs\\keras-env\\lib\\site-packages\\keras\\utils\\generic_utils.py:494: CustomMaskWarning: Custom mask layers require a config and must override get_config. When loading, the custom mask layer must be passed to the custom_objects argument.\n",
      "  warnings.warn('Custom mask layers require a config and must override '\n"
     ]
    }
   ],
   "source": [
    "#Salva o modelo (pesos + conexões entre os neurônios, ou seja, a estrutura da rede)\n",
    "model.save('C:\\\\Users\\\\LDT\\\\Desktop\\\\mestrado-unifesp\\\\exemplos\\\\modelo_budioes_resnet_' + optimizer_name + '_' + str(learning_rate) + \".model\");"
   ]
  },
  {
   "cell_type": "code",
   "execution_count": 20,
   "id": "5c0f972b",
   "metadata": {},
   "outputs": [],
   "source": [
    "#https://www.learndatasci.com/tutorials/hands-on-transfer-learning-keras/\n",
    "#https://neptune.ai/blog/keras-metrics"
   ]
  }
 ],
 "metadata": {
  "kernelspec": {
   "display_name": "Python 3 (ipykernel)",
   "language": "python",
   "name": "python3"
  },
  "language_info": {
   "codemirror_mode": {
    "name": "ipython",
    "version": 3
   },
   "file_extension": ".py",
   "mimetype": "text/x-python",
   "name": "python",
   "nbconvert_exporter": "python",
   "pygments_lexer": "ipython3",
   "version": "3.9.18"
  }
 },
 "nbformat": 4,
 "nbformat_minor": 5
}
